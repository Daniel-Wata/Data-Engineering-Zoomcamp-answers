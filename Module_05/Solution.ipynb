{
  "cells": [
    {
      "cell_type": "code",
      "execution_count": 1,
      "metadata": {
        "id": "zzIqSD4HDLJi"
      },
      "outputs": [],
      "source": [
        "%%capture\n",
        "!pip install pyspark\n",
        "!pip install findspark\n",
        "!pip install pyngrok"
      ]
    },
    {
      "cell_type": "code",
      "execution_count": 2,
      "metadata": {
        "id": "fkvWVig_EVNz"
      },
      "outputs": [],
      "source": [
        "import findspark\n",
        "\n",
        "findspark.init()\n",
        "\n",
        "from pyspark.sql import SparkSession\n",
        "\n",
        "spark = SparkSession.builder \\\n",
        "        .appName('testColab') \\\n",
        "        .getOrCreate()"
      ]
    },
    {
      "cell_type": "code",
      "execution_count": 3,
      "metadata": {
        "colab": {
          "base_uri": "https://localhost:8080/"
        },
        "id": "pGsgPo3pEgKZ",
        "outputId": "133d3ad2-bcc9-4951-87cc-1442b097bb1e"
      },
      "outputs": [
        {
          "name": "stdout",
          "output_type": "stream",
          "text": [
            "Enter your authtoken, which can be copied from https://dashboard.ngrok.com/get-started/your-authtoken\n",
            "··········\n"
          ]
        },
        {
          "name": "stderr",
          "output_type": "stream",
          "text": [
            "WARNING:pyngrok.process.ngrok:t=2025-03-06T01:03:16+0000 lvl=warn msg=\"can't bind default web address, trying alternatives\" obj=web addr=127.0.0.1:4040\n"
          ]
        },
        {
          "name": "stdout",
          "output_type": "stream",
          "text": [
            " * ngrok tunnel \"https://ded3-35-196-89-184.ngrok-free.app\" -> \"http://127.0.0.1:4040\"\n"
          ]
        }
      ],
      "source": [
        "from pyngrok import ngrok, conf\n",
        "import getpass\n",
        "\n",
        "print(\"Enter your authtoken, which can be copied \"\n",
        "\"from https://dashboard.ngrok.com/get-started/your-authtoken\")\n",
        "conf.get_default().auth_token = getpass.getpass()\n",
        "\n",
        "ui_port = 4040\n",
        "public_url = ngrok.connect(ui_port).public_url\n",
        "print(f\" * ngrok tunnel \\\"{public_url}\\\" -> \\\"http://127.0.0.1:{ui_port}\\\"\")"
      ]
    },
    {
      "cell_type": "code",
      "execution_count": 12,
      "metadata": {
        "colab": {
          "base_uri": "https://localhost:8080/"
        },
        "id": "Gp3KhyHo-Hsk",
        "outputId": "f0a7d425-1e4c-4b40-d020-784360c28708"
      },
      "outputs": [
        {
          "data": {
            "text/plain": [
              "3833771"
            ]
          },
          "execution_count": 12,
          "metadata": {},
          "output_type": "execute_result"
        }
      ],
      "source": [
        "from pyspark import SparkFiles\n",
        "\n",
        "file_url = 'https://d37ci6vzurychx.cloudfront.net/trip-data/yellow_tripdata_2024-10.parquet'\n",
        "spark.sparkContext.addFile(file_url)\n",
        "\n",
        "df = spark.read.parquet(SparkFiles.get('yellow_tripdata_2024-10.parquet'),\n",
        "      header=True)\n",
        "\n",
        "df.count()"
      ]
    },
    {
      "cell_type": "code",
      "execution_count": 15,
      "metadata": {
        "id": "hxbR0kQU-sqG"
      },
      "outputs": [],
      "source": [
        "df.repartition(4).write.mode('overwrite').save(\"dataframe.parquet\",format='parquet')"
      ]
    },
    {
      "cell_type": "code",
      "execution_count": 50,
      "metadata": {
        "colab": {
          "base_uri": "https://localhost:8080/"
        },
        "id": "2P4a_yn-Hy9B",
        "outputId": "d2bd8fe2-21ac-43ff-aeab-3b82f3b52a68"
      },
      "outputs": [
        {
          "name": "stdout",
          "output_type": "stream",
          "text": [
            "part-00000-09339b86-8da9-4a5b-802d-3fbe13fd43f5-c000.snappy.parquet: 15 MB\n",
            "part-00003-09339b86-8da9-4a5b-802d-3fbe13fd43f5-c000.snappy.parquet: 15 MB\n",
            "part-00001-09339b86-8da9-4a5b-802d-3fbe13fd43f5-c000.snappy.parquet: 15 MB\n",
            "part-00002-09339b86-8da9-4a5b-802d-3fbe13fd43f5-c000.snappy.parquet: 15 MB\n"
          ]
        }
      ],
      "source": [
        "from pathlib import Path\n",
        "\n",
        "folder = Path('dataframe')  # replace with your folder path\n",
        "\n",
        "# This will list only files ending with .parquet in the specified folder\n",
        "for file in folder.glob('*.parquet'):\n",
        "    size_bytes = file.stat().st_size/1024/1024\n",
        "    print(f\"{file.name}: {int(size_bytes)} MB\")"
      ]
    },
    {
      "cell_type": "code",
      "execution_count": 18,
      "metadata": {
        "id": "qxF2JhbB_t_n"
      },
      "outputs": [],
      "source": [
        "df = df.withColumn('date_pickup', df['tpep_pickup_datetime'].cast('date'))"
      ]
    },
    {
      "cell_type": "code",
      "execution_count": 22,
      "metadata": {
        "id": "UR_PUzdDBsLd"
      },
      "outputs": [],
      "source": [
        "df_filtered = df.filter(\"date_pickup = '2024-10-15'\")"
      ]
    },
    {
      "cell_type": "code",
      "execution_count": 24,
      "metadata": {
        "colab": {
          "base_uri": "https://localhost:8080/"
        },
        "id": "pe5MsmkZB9w9",
        "outputId": "92993b7d-c641-465b-821d-9695d57fb724"
      },
      "outputs": [
        {
          "data": {
            "text/plain": [
              "128893"
            ]
          },
          "execution_count": 24,
          "metadata": {},
          "output_type": "execute_result"
        }
      ],
      "source": [
        "#Number of trips in October 15th\n",
        "df_filtered.count()"
      ]
    },
    {
      "cell_type": "code",
      "execution_count": 25,
      "metadata": {
        "colab": {
          "base_uri": "https://localhost:8080/"
        },
        "id": "JDmPaUZQFTIM",
        "outputId": "b6f6d6c9-3b0e-47d6-b746-23fdf03fca50"
      },
      "outputs": [
        {
          "name": "stdout",
          "output_type": "stream",
          "text": [
            "+--------+--------------------+---------------------+---------------+-------------+----------+------------------+------------+------------+------------+-----------+-----+-------+----------+------------+---------------------+------------+--------------------+-----------+-----------+\n",
            "|VendorID|tpep_pickup_datetime|tpep_dropoff_datetime|passenger_count|trip_distance|RatecodeID|store_and_fwd_flag|PULocationID|DOLocationID|payment_type|fare_amount|extra|mta_tax|tip_amount|tolls_amount|improvement_surcharge|total_amount|congestion_surcharge|Airport_fee|date_pickup|\n",
            "+--------+--------------------+---------------------+---------------+-------------+----------+------------------+------------+------------+------------+-----------+-----+-------+----------+------------+---------------------+------------+--------------------+-----------+-----------+\n",
            "|       2| 2024-10-01 00:30:44|  2024-10-01 00:48:26|              1|          3.0|         1|                 N|         162|         246|           1|       18.4|  1.0|    0.5|       1.5|         0.0|                  1.0|        24.9|                 2.5|        0.0| 2024-10-01|\n",
            "|       1| 2024-10-01 00:12:20|  2024-10-01 00:25:25|              1|          2.2|         1|                 N|          48|         236|           1|       14.2|  3.5|    0.5|       3.8|         0.0|                  1.0|        23.0|                 2.5|        0.0| 2024-10-01|\n",
            "|       1| 2024-10-01 00:04:46|  2024-10-01 00:13:52|              1|          2.7|         1|                 N|         142|          24|           1|       13.5|  3.5|    0.5|       3.7|         0.0|                  1.0|        22.2|                 2.5|        0.0| 2024-10-01|\n",
            "|       1| 2024-10-01 00:12:10|  2024-10-01 00:23:01|              1|          3.1|         1|                 N|         233|          75|           1|       14.2|  3.5|    0.5|       2.0|         0.0|                  1.0|        21.2|                 2.5|        0.0| 2024-10-01|\n",
            "|       1| 2024-10-01 00:30:22|  2024-10-01 00:30:39|              1|          0.0|         1|                 N|         262|         262|           3|        3.0|  3.5|    0.5|       0.0|         0.0|                  1.0|         8.0|                 2.5|        0.0| 2024-10-01|\n",
            "+--------+--------------------+---------------------+---------------+-------------+----------+------------------+------------+------------+------------+-----------+-----+-------+----------+------------+---------------------+------------+--------------------+-----------+-----------+\n",
            "only showing top 5 rows\n",
            "\n"
          ]
        }
      ],
      "source": [
        "df.show(5)"
      ]
    },
    {
      "cell_type": "code",
      "execution_count": 29,
      "metadata": {
        "id": "90prYqZDC0gp"
      },
      "outputs": [],
      "source": [
        "from pyspark.sql.functions import *\n",
        "df_longest_trip = df.withColumn('hours_diff',(unix_timestamp(\"tpep_dropoff_datetime\")-unix_timestamp(\"tpep_pickup_datetime\"))/3600)"
      ]
    },
    {
      "cell_type": "code",
      "execution_count": 33,
      "metadata": {
        "colab": {
          "base_uri": "https://localhost:8080/"
        },
        "id": "DX_0Oyj7FklN",
        "outputId": "2f12a3af-9cf2-4737-ff19-6f9a5b0d9e98"
      },
      "outputs": [
        {
          "data": {
            "text/plain": [
              "Row(max(hours_diff)=162.61777777777777)"
            ]
          },
          "execution_count": 33,
          "metadata": {},
          "output_type": "execute_result"
        }
      ],
      "source": [
        "#Longest trip in hours\n",
        "df_longest_trip.groupby().max('hours_diff').first()"
      ]
    },
    {
      "cell_type": "code",
      "execution_count": 34,
      "metadata": {
        "id": "0T3cvhpbGYF9"
      },
      "outputs": [],
      "source": [
        "file_url = 'https://d37ci6vzurychx.cloudfront.net/misc/taxi_zone_lookup.csv'\n",
        "spark.sparkContext.addFile(file_url)\n",
        "\n",
        "df_zones = spark.read.csv(SparkFiles.get('taxi_zone_lookup.csv'),\n",
        "      header=True)"
      ]
    },
    {
      "cell_type": "code",
      "execution_count": 41,
      "metadata": {
        "colab": {
          "base_uri": "https://localhost:8080/"
        },
        "id": "GNMEwy0sGd29",
        "outputId": "d45c68ae-c440-4a43-b1cc-0520cceb8203"
      },
      "outputs": [
        {
          "data": {
            "text/plain": [
              "{'Zone': \"Governor's Island/Ellis Island/Liberty Island\", 'count': 1}"
            ]
          },
          "execution_count": 41,
          "metadata": {},
          "output_type": "execute_result"
        }
      ],
      "source": [
        "df_zones_count = df.join(df_zones, df.PULocationID == df_zones.LocationID).select(df_zones.Zone).groupby('Zone').count().sort(asc('count'))\n",
        "df_zones_count.first().asDict()"
      ]
    }
  ],
  "metadata": {
    "colab": {
      "provenance": []
    },
    "kernelspec": {
      "display_name": "Python 3",
      "name": "python3"
    },
    "language_info": {
      "name": "python"
    }
  },
  "nbformat": 4,
  "nbformat_minor": 0
}
